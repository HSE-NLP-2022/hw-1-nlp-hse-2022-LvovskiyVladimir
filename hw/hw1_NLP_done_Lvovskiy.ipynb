{
  "cells": [
    {
      "cell_type": "markdown",
      "source": [
        "Скачиваем данные"
      ],
      "metadata": {
        "id": "lYbo0e-NVy83"
      }
    },
    {
      "cell_type": "code",
      "execution_count": null,
      "metadata": {
        "id": "TnA-eIlPrPD3"
      },
      "outputs": [],
      "source": [
        "!wget https://www.dropbox.com/s/u0l2fkkmtmjumbx/hpac_lower_tokenized.zip > null\n",
        "!wget https://www.dropbox.com/s/aogtja9upycdqv4/hpac_splits.zip > null\n",
        "\n",
        "!unzip /content/hpac_lower_tokenized.zip > null\n",
        "!unzip /content/hpac_splits.zip > null"
      ]
    },
    {
      "cell_type": "markdown",
      "source": [
        "импортируем необходимые библиотеки"
      ],
      "metadata": {
        "id": "AtaBhCeqtWHE"
      }
    },
    {
      "cell_type": "code",
      "source": [
        "import os\n",
        "import string\n",
        "\n",
        "import numpy as np\n",
        "import torch\n",
        "import matplotlib.pyplot as plt\n",
        "from matplotlib.pyplot import figure\n",
        "from tqdm import tqdm\n",
        "from gensim.utils import any2unicode\n",
        "from torch.utils.data import DataLoader, Dataset\n",
        "from gensim.models.fasttext import FastText\n",
        "from torch import nn, relu, optim\n",
        "from torch.nn import Conv1d, Linear\n",
        "from sklearn.metrics import f1_score\n",
        "from gensim.models import Word2Vec\n",
        "from sklearn.manifold import TSNE\n",
        "from gensim.parsing.preprocessing import remove_stopwords, strip_punctuation, strip_short"
      ],
      "metadata": {
        "id": "Edz0XyEpsOqV"
      },
      "execution_count": null,
      "outputs": []
    },
    {
      "cell_type": "markdown",
      "metadata": {
        "id": "lhb9QHmI_1OA"
      },
      "source": [
        "Будем считывать данные из документов с помощью итератора. Загрузить все данные и токенизировать их сразу не представляется возможным из-за ограничений по RAM."
      ]
    },
    {
      "cell_type": "code",
      "execution_count": null,
      "metadata": {
        "id": "tbRlnzNR_0lM"
      },
      "outputs": [],
      "source": [
        "class DataLoader:\n",
        "    def __init__(self, dir):\n",
        "        self.dir = dir\n",
        "        self.filenames = [filename for filename in os.listdir(dir)]\n",
        "        self.index = -1\n",
        "        self.size = len(self.filenames)\n",
        "\n",
        "    def __iter__(self):\n",
        "        return self\n",
        "\n",
        "    def __next__(self):\n",
        "        self.index += 1\n",
        "        if self.index % 3000 == 0:\n",
        "          print(f\"[{self.index}/{self.size}]\")\n",
        "        if self.index < self.size:\n",
        "            with open(self.dir + self.filenames[self.index], 'r') as f:\n",
        "              tokenized_text = strip_short(strip_punctuation(remove_stopwords(f.read()))).split()\n",
        "            return tokenized_text\n",
        "        self.index = -1\n",
        "        raise StopIteration"
      ]
    },
    {
      "cell_type": "markdown",
      "metadata": {
        "id": "E4z4z_v0s2YS"
      },
      "source": [
        "Часть 1. Эксплоративный анализ\n",
        "\n",
        "1) Найдите топ-1000 слов по частоте без учета стоп-слов.\n",
        "\n",
        "2) Найдите топ-10 по частоте: имен, пар имя + фамилия, пар вида ''профессор'' + имя / фамилия."
      ]
    },
    {
      "cell_type": "code",
      "execution_count": null,
      "metadata": {
        "id": "mGOnoI8echbT"
      },
      "outputs": [],
      "source": [
        "dataloader = DataLoader(\"/content/hpac_source/\")\n",
        "\n",
        "with open(\"/content/hp_names.txt\", \"r\") as f:\n",
        "  NAMES = f.read().split('\\n')"
      ]
    },
    {
      "cell_type": "markdown",
      "source": [
        "мы используем `hp_names.txt` -- список имён всех персонажей из вселенной Гарри Поттера"
      ],
      "metadata": {
        "id": "iT7ocFKIErzJ"
      }
    },
    {
      "cell_type": "code",
      "execution_count": null,
      "metadata": {
        "colab": {
          "base_uri": "https://localhost:8080/"
        },
        "id": "e97uqrTt5u7-",
        "outputId": "f3af75e0-c404-4e1a-9bf0-6559668f8ad9"
      },
      "outputs": [
        {
          "output_type": "stream",
          "name": "stdout",
          "text": [
            "[0/36225]\n",
            "[3000/36225]\n",
            "[6000/36225]\n",
            "[9000/36225]\n",
            "[12000/36225]\n",
            "[15000/36225]\n",
            "[18000/36225]\n",
            "[21000/36225]\n",
            "[24000/36225]\n",
            "[27000/36225]\n",
            "[30000/36225]\n",
            "[33000/36225]\n",
            "[36000/36225]\n"
          ]
        }
      ],
      "source": [
        "D = {}\n",
        "\n",
        "names1 = {}\n",
        "names2 = {}\n",
        "\n",
        "for tokens in dataloader:\n",
        "  for i in range(len(tokens)):\n",
        "    if tokens[i] not in D.keys():\n",
        "      D[tokens[i]] = 0\n",
        "    D[tokens[i]] += 1\n",
        "\n",
        "    for name in NAMES:\n",
        "      if tokens[i] in name:\n",
        "        if name not in names1.keys():\n",
        "          names1[name] = 0\n",
        "        names1[name] += 1\n",
        "\n",
        "    if tokens[i-1] == 'professor':\n",
        "      token = tokens[i-1] + ' ' + tokens[i]\n",
        "      if token not in names2.keys():\n",
        "        names2[token] = 0\n",
        "      names2[token] += 1"
      ]
    },
    {
      "cell_type": "markdown",
      "source": [
        "топ 1000 слов по встречаемости"
      ],
      "metadata": {
        "id": "l7B6fVu9jVUc"
      }
    },
    {
      "cell_type": "code",
      "execution_count": null,
      "metadata": {
        "id": "svdZXRGu6WUI",
        "colab": {
          "base_uri": "https://localhost:8080/"
        },
        "outputId": "1b20329d-ac5e-4d89-fee1-6fa772827b1a"
      },
      "outputs": [
        {
          "output_type": "execute_result",
          "data": {
            "text/plain": [
              "[('harry', 4000516),\n",
              " ('said', 2262365),\n",
              " ('hermione', 1831475),\n",
              " ('draco', 1389987),\n",
              " ('like', 1275302),\n",
              " ('know', 1203944),\n",
              " ('eyes', 1033470),\n",
              " ('time', 1016960),\n",
              " ('ron', 906202),\n",
              " ('looked', 893446),\n",
              " ('asked', 826495),\n",
              " ('head', 737083),\n",
              " ('going', 718864),\n",
              " ('think', 716081),\n",
              " ('face', 657548),\n",
              " ('way', 656364),\n",
              " ('severus', 655654),\n",
              " ('room', 648484),\n",
              " ('hand', 639613),\n",
              " ('ginny', 639548),\n",
              " ('sirius', 630219),\n",
              " ('want', 613217),\n",
              " ('potter', 608426),\n",
              " ('thought', 608150),\n",
              " ('right', 603542),\n",
              " ('snape', 600492),\n",
              " ('away', 580725),\n",
              " ('look', 566544),\n",
              " ('knew', 524841),\n",
              " ('let', 513133),\n",
              " ('good', 510094),\n",
              " ('malfoy', 486352),\n",
              " ('wand', 482520),\n",
              " ('little', 481406),\n",
              " ('felt', 476097),\n",
              " ('dumbledore', 472845),\n",
              " ('turned', 472763),\n",
              " ('james', 468948),\n",
              " ('come', 461133),\n",
              " ('got', 451904),\n",
              " ('took', 436164),\n",
              " ('remus', 433776),\n",
              " ('lily', 423907),\n",
              " ('sure', 414026),\n",
              " ('looking', 412943),\n",
              " ('door', 408796),\n",
              " ('tell', 407274),\n",
              " ('dark', 407101),\n",
              " ('long', 400952),\n",
              " ('voice', 397147),\n",
              " ('voldemort', 396696),\n",
              " ('told', 387988),\n",
              " ('need', 387853),\n",
              " ('left', 382492),\n",
              " ('yes', 381412),\n",
              " ('man', 378306),\n",
              " ('wanted', 369171),\n",
              " ('came', 343142),\n",
              " ('love', 341293),\n",
              " ('nodded', 341059),\n",
              " ('moment', 336220),\n",
              " ('people', 334999),\n",
              " ('year', 333342),\n",
              " ('saw', 333047),\n",
              " ('things', 328450),\n",
              " ('went', 325856),\n",
              " ('hands', 325015),\n",
              " ('death', 324147),\n",
              " ('help', 322677),\n",
              " ('day', 322614),\n",
              " ('boy', 316913),\n",
              " ('smiled', 312584),\n",
              " ('professor', 311847),\n",
              " ('mind', 311632),\n",
              " ('hair', 301577),\n",
              " ('house', 299264),\n",
              " ('bit', 296606),\n",
              " ('hogwarts', 292080),\n",
              " ('thing', 287898),\n",
              " ('bed', 287639),\n",
              " ('trying', 284261),\n",
              " ('feel', 281513),\n",
              " ('started', 281286),\n",
              " ('life', 279702),\n",
              " ('black', 277114),\n",
              " ('night', 276930),\n",
              " ('heard', 273446),\n",
              " ('years', 269690),\n",
              " ('smile', 268328),\n",
              " ('RRB', 266942),\n",
              " ('better', 265332),\n",
              " ('magic', 263927),\n",
              " ('gave', 262515),\n",
              " ('weasley', 260530),\n",
              " ('father', 256195),\n",
              " ('sat', 254242),\n",
              " ('began', 253560),\n",
              " ('walked', 250456),\n",
              " ('finally', 247509),\n",
              " ('tried', 245227),\n",
              " ('place', 245213),\n",
              " ('stood', 242650),\n",
              " ('LRB', 242569),\n",
              " ('friends', 241074),\n",
              " ('lord', 238908),\n",
              " ('small', 238343),\n",
              " ('pulled', 238162),\n",
              " ('quickly', 237230),\n",
              " ('course', 236436),\n",
              " ('body', 234863),\n",
              " ('girl', 234454),\n",
              " ('best', 232193),\n",
              " ('old', 224191),\n",
              " ('arms', 223093),\n",
              " ('neville', 221533),\n",
              " ('table', 221109),\n",
              " ('mean', 219655),\n",
              " ('work', 219428),\n",
              " ('family', 219203),\n",
              " ('sorry', 217532),\n",
              " ('albus', 216670),\n",
              " ('end', 215673),\n",
              " ('great', 215254),\n",
              " ('world', 214004),\n",
              " ('mother', 213938),\n",
              " ('school', 213614),\n",
              " ('lucius', 211133),\n",
              " ('new', 208999),\n",
              " ('stop', 208089),\n",
              " ('happened', 206186),\n",
              " ('open', 205999),\n",
              " ('leave', 205873),\n",
              " ('maybe', 204900),\n",
              " ('replied', 204740),\n",
              " ('mouth', 203652),\n",
              " ('soon', 202645),\n",
              " ('floor', 198391),\n",
              " ('later', 198084),\n",
              " ('getting', 196776),\n",
              " ('able', 195327),\n",
              " ('words', 194067),\n",
              " ('arm', 193454),\n",
              " ('hard', 193444),\n",
              " ('friend', 191666),\n",
              " ('lips', 191123),\n",
              " ('feeling', 188644),\n",
              " ('actually', 188222),\n",
              " ('suddenly', 187313),\n",
              " ('seen', 186447),\n",
              " ('slowly', 186399),\n",
              " ('having', 184434),\n",
              " ('sighed', 184346),\n",
              " ('luna', 183899),\n",
              " ('spell', 183554),\n",
              " ('talk', 182825),\n",
              " ('making', 180958),\n",
              " ('shook', 179552),\n",
              " ('gone', 178636),\n",
              " ('light', 177510),\n",
              " ('george', 177021),\n",
              " ('believe', 176735),\n",
              " ('second', 176434),\n",
              " ('blood', 176287),\n",
              " ('home', 175616),\n",
              " ('far', 175378),\n",
              " ('probably', 175349),\n",
              " ('held', 175034),\n",
              " ('granger', 173450),\n",
              " ('inside', 172833),\n",
              " ('opened', 171417),\n",
              " ('rest', 170746),\n",
              " ('taking', 170212),\n",
              " ('fred', 169566),\n",
              " ('muggle', 167891),\n",
              " ('half', 167883),\n",
              " ('stopped', 167220),\n",
              " ('hear', 167022),\n",
              " ('rose', 166670),\n",
              " ('idea', 166374),\n",
              " ('whispered', 166282),\n",
              " ('thank', 165986),\n",
              " ('coming', 164758),\n",
              " ('try', 164591),\n",
              " ('called', 164568),\n",
              " ('breath', 164378),\n",
              " ('care', 164329),\n",
              " ('slightly', 163288),\n",
              " ('tom', 163153),\n",
              " ('parents', 162405),\n",
              " ('yeah', 162077),\n",
              " ('students', 161344),\n",
              " ('needed', 161041),\n",
              " ('close', 160032),\n",
              " ('ask', 159988),\n",
              " ('laughed', 159593),\n",
              " ('slytherin', 158962),\n",
              " ('heart', 158909),\n",
              " ('watched', 158108),\n",
              " ('use', 157961),\n",
              " ('gryffindor', 157872),\n",
              " ('sitting', 156915),\n",
              " ('continued', 156904),\n",
              " ('morning', 156324),\n",
              " ('happy', 154648),\n",
              " ('feet', 154148),\n",
              " ('lot', 153864),\n",
              " ('red', 152763),\n",
              " ('pain', 152529),\n",
              " ('book', 150402),\n",
              " ('okay', 149467),\n",
              " ('remember', 149203),\n",
              " ('fact', 148719),\n",
              " ('hall', 148687),\n",
              " ('past', 148101),\n",
              " ('stared', 146469),\n",
              " ('reached', 146040),\n",
              " ('chapter', 145808),\n",
              " ('fine', 145802),\n",
              " ('ministry', 145364),\n",
              " ('thinking', 144814),\n",
              " ('wizard', 144049),\n",
              " ('wrong', 144042),\n",
              " ('hope', 143028),\n",
              " ('shoulder', 142477),\n",
              " ('read', 141718),\n",
              " ('set', 141629),\n",
              " ('bad', 140423),\n",
              " ('moved', 140051),\n",
              " ('standing', 139679),\n",
              " ('dead', 138575),\n",
              " ('chest', 138473),\n",
              " ('talking', 137430),\n",
              " ('fell', 137260),\n",
              " ('decided', 137247),\n",
              " ('minutes', 136055),\n",
              " ('potion', 136031),\n",
              " ('stay', 135864),\n",
              " ('ran', 135282),\n",
              " ('hurt', 134731),\n",
              " ('young', 134418),\n",
              " ('understand', 134273),\n",
              " ('mcgonagall', 134019),\n",
              " ('point', 133882),\n",
              " ('air', 133855),\n",
              " ('fingers', 133804),\n",
              " ('person', 133079),\n",
              " ('instead', 132965),\n",
              " ('kill', 132825),\n",
              " ('caught', 132816),\n",
              " ('matter', 132642),\n",
              " ('woman', 132271),\n",
              " ('potions', 132247),\n",
              " ('miss', 132195),\n",
              " ('days', 132130),\n",
              " ('ready', 130447),\n",
              " ('kiss', 130414),\n",
              " ('tonks', 130357),\n",
              " ('tears', 130241),\n",
              " ('ground', 130161),\n",
              " ('son', 129639),\n",
              " ('kept', 129227),\n",
              " ('taken', 128171),\n",
              " ('times', 128063),\n",
              " ('wait', 127777),\n",
              " ('deep', 127544),\n",
              " ('order', 127435),\n",
              " ('forward', 126988),\n",
              " ('curse', 126937),\n",
              " ('closed', 126766),\n",
              " ('eaters', 126091),\n",
              " ('noticed', 125396),\n",
              " ('story', 125158),\n",
              " ('magical', 124697),\n",
              " ('kind', 123685),\n",
              " ('lost', 123411),\n",
              " ('reason', 123372),\n",
              " ('raised', 123044),\n",
              " ('sleep', 122338),\n",
              " ('sound', 121845),\n",
              " ('thanks', 121228),\n",
              " ('blaise', 119960),\n",
              " ('eye', 119487),\n",
              " ('wall', 119083),\n",
              " ('different', 119067),\n",
              " ('office', 117306),\n",
              " ('bellatrix', 117277),\n",
              " ('question', 116022),\n",
              " ('start', 115962),\n",
              " ('followed', 115446),\n",
              " ('word', 114961),\n",
              " ('turn', 114690),\n",
              " ('large', 114095),\n",
              " ('class', 113580),\n",
              " ('answer', 113032),\n",
              " ('outside', 112945),\n",
              " ('holding', 112869),\n",
              " ('attention', 112384),\n",
              " ('hit', 112115),\n",
              " ('lupin', 111422),\n",
              " ('chair', 111398),\n",
              " ('answered', 111255),\n",
              " ('completely', 110955),\n",
              " ('cold', 110823),\n",
              " ('green', 110693),\n",
              " ('exactly', 110677),\n",
              " ('scorpius', 110516),\n",
              " ('quietly', 110265),\n",
              " ('waiting', 110253),\n",
              " ('immediately', 108626),\n",
              " ('mum', 108315),\n",
              " ('ago', 108168),\n",
              " ('minerva', 108028),\n",
              " ('robes', 107798),\n",
              " ('spoke', 107632),\n",
              " ('saying', 107626),\n",
              " ('longer', 107480),\n",
              " ('watching', 106933),\n",
              " ('today', 106907),\n",
              " ('leaving', 106728),\n",
              " ('stepped', 106291),\n",
              " ('true', 106153),\n",
              " ('child', 106090),\n",
              " ('seeing', 105600),\n",
              " ('hold', 105464),\n",
              " ('master', 105358),\n",
              " ('pansy', 105043),\n",
              " ('staring', 104987),\n",
              " ('surprised', 104941),\n",
              " ('given', 104730),\n",
              " ('nearly', 104704),\n",
              " ('silence', 104538),\n",
              " ('witch', 104478),\n",
              " ('dad', 104353),\n",
              " ('turning', 103984),\n",
              " ('neck', 103934),\n",
              " ('nice', 103812),\n",
              " ('softly', 103689),\n",
              " ('headmaster', 103327),\n",
              " ('finished', 103176),\n",
              " ('meant', 102411),\n",
              " ('brought', 102043),\n",
              " ('closer', 102036),\n",
              " ('simply', 101834),\n",
              " ('war', 101013),\n",
              " ('grabbed', 100650),\n",
              " ('hell', 100388),\n",
              " ('bloody', 99649),\n",
              " ('grinned', 99617),\n",
              " ('charm', 99509),\n",
              " ('managed', 99364),\n",
              " ('realized', 99214),\n",
              " ('change', 99119),\n",
              " ('says', 98993),\n",
              " ('narcissa', 98939),\n",
              " ('looks', 98929),\n",
              " ('brother', 98833),\n",
              " ('quidditch', 98427),\n",
              " ('running', 98043),\n",
              " ('children', 97893),\n",
              " ('kissed', 97438),\n",
              " ('killed', 97325),\n",
              " ('chance', 97261),\n",
              " ('speak', 96922),\n",
              " ('common', 96782),\n",
              " ('shut', 96723),\n",
              " ('skin', 96715),\n",
              " ('mrs', 96430),\n",
              " ('week', 96179),\n",
              " ('sent', 95005),\n",
              " ('known', 94872),\n",
              " ('alright', 94218),\n",
              " ('white', 94071),\n",
              " ('added', 93861),\n",
              " ('pointed', 93783),\n",
              " ('run', 93750),\n",
              " ('castle', 93664),\n",
              " ('rolled', 93468),\n",
              " ('met', 93361),\n",
              " ('molly', 92834),\n",
              " ('expression', 92820),\n",
              " ('boys', 92763),\n",
              " ('supposed', 92607),\n",
              " ('walking', 92498),\n",
              " ('returned', 92442),\n",
              " ('knowing', 92264),\n",
              " ('fight', 92185),\n",
              " ('muttered', 92146),\n",
              " ('hours', 92087),\n",
              " ('cast', 91978),\n",
              " ('appeared', 91859),\n",
              " ('girls', 91619),\n",
              " ('leaned', 91520),\n",
              " ('giving', 91238),\n",
              " ('happen', 90620),\n",
              " ('books', 90511),\n",
              " ('water', 90308),\n",
              " ('thoughts', 90117),\n",
              " ('pretty', 89939),\n",
              " ('shrugged', 89936),\n",
              " ('sort', 89724),\n",
              " ('spells', 89243),\n",
              " ('guess', 89208),\n",
              " ('throat', 89104),\n",
              " ('letter', 88886),\n",
              " ('gently', 88837),\n",
              " ('real', 88788),\n",
              " ('worry', 88535),\n",
              " ('big', 88348),\n",
              " ('pushed', 88075),\n",
              " ('loved', 88030),\n",
              " ('hagrid', 87461),\n",
              " ('stairs', 87415),\n",
              " ('possible', 87267),\n",
              " ('surprise', 87094),\n",
              " ('couple', 86862),\n",
              " ('glanced', 86713),\n",
              " ('meet', 86088),\n",
              " ('passed', 85884),\n",
              " ('fear', 85573),\n",
              " ('watch', 84880),\n",
              " ('power', 84862),\n",
              " ('desk', 84732),\n",
              " ('sit', 84699),\n",
              " ('stand', 84696),\n",
              " ('placed', 84678),\n",
              " ('smiling', 84287),\n",
              " ('dinner', 84191),\n",
              " ('merlin', 83730),\n",
              " ('late', 83696),\n",
              " ('sense', 83389),\n",
              " ('safe', 83379),\n",
              " ('corner', 83264),\n",
              " ('die', 82779),\n",
              " ('sir', 82413),\n",
              " ('wizards', 82242),\n",
              " ('stupid', 82100),\n",
              " ('bring', 81879),\n",
              " ('walk', 81858),\n",
              " ('eater', 81558),\n",
              " ('soft', 81437),\n",
              " ('baby', 81201),\n",
              " ('shot', 81077),\n",
              " ('anymore', 80722),\n",
              " ('break', 80594),\n",
              " ('kitchen', 80499),\n",
              " ('knows', 80396),\n",
              " ('snapped', 80365),\n",
              " ('agreed', 80117),\n",
              " ('wondered', 80064),\n",
              " ('short', 80037),\n",
              " ('near', 79655),\n",
              " ('wish', 79463),\n",
              " ('free', 79425),\n",
              " ('quiet', 79326),\n",
              " ('telling', 79310),\n",
              " ('blue', 79048),\n",
              " ('group', 78655),\n",
              " ('changed', 78603),\n",
              " ('window', 78561),\n",
              " ('sister', 78541),\n",
              " ('laugh', 78506),\n",
              " ('peter', 78439),\n",
              " ('moving', 78415),\n",
              " ('pulling', 78201),\n",
              " ('return', 78044),\n",
              " ('charlie', 78028),\n",
              " ('plan', 77886),\n",
              " ('angry', 77840),\n",
              " ('case', 77632),\n",
              " ('trust', 77184),\n",
              " ('explained', 77045),\n",
              " ('reading', 76938),\n",
              " ('dropped', 76830),\n",
              " ('shoulders', 76586),\n",
              " ('barely', 76486),\n",
              " ('sight', 76084),\n",
              " ('gaze', 75974),\n",
              " ('cut', 75736),\n",
              " ('live', 75693),\n",
              " ('beautiful', 75164),\n",
              " ('especially', 75124),\n",
              " ('died', 74944),\n",
              " ('figure', 74782),\n",
              " ('working', 74661),\n",
              " ('clear', 74636),\n",
              " ('christmas', 74622),\n",
              " ('shaking', 74471),\n",
              " ('legs', 74337),\n",
              " ('tonight', 74336),\n",
              " ('memory', 74324),\n",
              " ('worried', 74289),\n",
              " ('control', 74175),\n",
              " ('months', 74165),\n",
              " ('spent', 74126),\n",
              " ('seat', 74092),\n",
              " ('entire', 73873),\n",
              " ('shouted', 73871),\n",
              " ('dear', 73788),\n",
              " ('living', 73725),\n",
              " ('frowned', 73412),\n",
              " ('straight', 72997),\n",
              " ('fall', 72961),\n",
              " ('stomach', 72958),\n",
              " ('hour', 72902),\n",
              " ('conversation', 72717),\n",
              " ('stone', 72589),\n",
              " ('wizarding', 72050),\n",
              " ('allowed', 71913),\n",
              " ('form', 71904),\n",
              " ('fun', 71892),\n",
              " ('remembered', 71773),\n",
              " ('tone', 71757),\n",
              " ('afraid', 71664),\n",
              " ('filled', 71410),\n",
              " ('entered', 71349),\n",
              " ('picked', 71214),\n",
              " ('anger', 71067),\n",
              " ('glad', 70958),\n",
              " ('touch', 70842),\n",
              " ('broke', 70831),\n",
              " ('quick', 70827),\n",
              " ('step', 70643),\n",
              " ('silent', 70309),\n",
              " ('nose', 70222),\n",
              " ('truth', 70202),\n",
              " ('play', 70107),\n",
              " ('grin', 70038),\n",
              " ('meeting', 69811),\n",
              " ('cried', 69785),\n",
              " ('hey', 69597),\n",
              " ('laughing', 69564),\n",
              " ('auror', 69481),\n",
              " ('important', 69422),\n",
              " ('smirked', 69180),\n",
              " ('certain', 69093),\n",
              " ('warm', 68888),\n",
              " ('team', 68505),\n",
              " ('weeks', 68462),\n",
              " ('high', 68185),\n",
              " ('food', 67988),\n",
              " ('percy', 67889),\n",
              " ('older', 67539),\n",
              " ('fleur', 67353),\n",
              " ('hate', 67233),\n",
              " ('expected', 67021),\n",
              " ('wide', 66946),\n",
              " ('threw', 66803),\n",
              " ('cheek', 66505),\n",
              " ('breakfast', 66301),\n",
              " ('yelled', 66294),\n",
              " ('worse', 66253),\n",
              " ('elf', 66176),\n",
              " ('problem', 66068),\n",
              " ('perfect', 65763),\n",
              " ('teddy', 65703),\n",
              " ('ones', 65636),\n",
              " ('cloak', 65609),\n",
              " ('clearly', 65588),\n",
              " ('memories', 65417),\n",
              " ('waited', 65172),\n",
              " ('shock', 64885),\n",
              " ('obviously', 64806),\n",
              " ('liked', 64736),\n",
              " ('wife', 64628),\n",
              " ('alive', 64533),\n",
              " ('arrived', 64433),\n",
              " ('riddle', 64410),\n",
              " ('certainly', 64339),\n",
              " ('note', 64219),\n",
              " ('carefully', 63946),\n",
              " ('summer', 63775),\n",
              " ('despite', 63538),\n",
              " ('glass', 63371),\n",
              " ('job', 63292),\n",
              " ('gotten', 63282),\n",
              " ('information', 63244),\n",
              " ('wrapped', 63233),\n",
              " ('daphne', 63220),\n",
              " ('loud', 63183),\n",
              " ('forced', 62993),\n",
              " ('madam', 62937),\n",
              " ('ear', 62875),\n",
              " ('strong', 62720),\n",
              " ('clothes', 62612),\n",
              " ('tomorrow', 62567),\n",
              " ('battle', 62478),\n",
              " ('library', 62467),\n",
              " ('tea', 62455),\n",
              " ('deal', 62414),\n",
              " ('strange', 62198),\n",
              " ('trouble', 62178),\n",
              " ('calm', 62173),\n",
              " ('worked', 61961),\n",
              " ('minute', 61824),\n",
              " ('confused', 61808),\n",
              " ('owl', 61776),\n",
              " ('middle', 61666),\n",
              " ('headed', 61390),\n",
              " ('easy', 61289),\n",
              " ('evening', 61278),\n",
              " ('normal', 61127),\n",
              " ('daughter', 61030),\n",
              " ('shirt', 60680),\n",
              " ('parchment', 60642),\n",
              " ('lay', 60600),\n",
              " ('secret', 60586),\n",
              " ('makes', 60478),\n",
              " ('twins', 60457),\n",
              " ('paused', 60414),\n",
              " ('apparently', 60413),\n",
              " ('notice', 60337),\n",
              " ('line', 60087),\n",
              " ('tired', 59950),\n",
              " ('suppose', 59728),\n",
              " ('moments', 59673),\n",
              " ('broom', 59654),\n",
              " ('led', 59114),\n",
              " ('tongue', 58955),\n",
              " ('broken', 58907),\n",
              " ('usual', 58743),\n",
              " ('lying', 58710),\n",
              " ('promise', 58687),\n",
              " ('cup', 58666),\n",
              " ('piece', 58560),\n",
              " ('pale', 58414),\n",
              " ('men', 58205),\n",
              " ('arthur', 58125),\n",
              " ('chuckled', 58087),\n",
              " ('familiar', 57891),\n",
              " ('sounded', 57848),\n",
              " ('questions', 57839),\n",
              " ('game', 57802),\n",
              " ('attack', 57784),\n",
              " ('doubt', 57765),\n",
              " ('mate', 57580),\n",
              " ('muggles', 57500),\n",
              " ('mad', 57492),\n",
              " ('save', 57480),\n",
              " ('wonder', 57458),\n",
              " ('means', 57455),\n",
              " ('finger', 57298),\n",
              " ('bright', 57246),\n",
              " ('helped', 57211),\n",
              " ('uncle', 57062),\n",
              " ('bella', 57012),\n",
              " ('explain', 56926),\n",
              " ('aurors', 56857),\n",
              " ('pressed', 56809),\n",
              " ('gasped', 56723),\n",
              " ('minister', 56705),\n",
              " ('jumped', 56631),\n",
              " ('charms', 56590),\n",
              " ('hissed', 56568),\n",
              " ('situation', 56493),\n",
              " ('hospital', 56299),\n",
              " ('position', 56053),\n",
              " ('lifted', 56028),\n",
              " ('glared', 56005),\n",
              " ('manor', 55837),\n",
              " ('moody', 55733),\n",
              " ('covered', 55680),\n",
              " ('fast', 55601),\n",
              " ('catch', 55337),\n",
              " ('shall', 55251),\n",
              " ('seconds', 55219),\n",
              " ('wants', 55065),\n",
              " ('asleep', 54770),\n",
              " ('asking', 54634),\n",
              " ('early', 54633),\n",
              " ('dobby', 54364),\n",
              " ('teeth', 54356),\n",
              " ('pomfrey', 53991),\n",
              " ('listen', 53955),\n",
              " ('wearing', 53933),\n",
              " ('bag', 53597),\n",
              " ('write', 53519),\n",
              " ('follow', 53459),\n",
              " ('kingsley', 53415),\n",
              " ('following', 53349),\n",
              " ('sigh', 53320),\n",
              " ('forget', 53302),\n",
              " ('letting', 53290),\n",
              " ('screamed', 53229),\n",
              " ('soul', 53228),\n",
              " ('truly', 53173),\n",
              " ('pull', 53163),\n",
              " ('mark', 53150),\n",
              " ('student', 52991),\n",
              " ('ended', 52751),\n",
              " ('beginning', 52726),\n",
              " ('keeping', 52725),\n",
              " ('fighting', 52652),\n",
              " ('hoped', 52640),\n",
              " ('playing', 52526),\n",
              " ('flew', 52321),\n",
              " ('likely', 52264),\n",
              " ('silver', 52230),\n",
              " ('brown', 52218),\n",
              " ('wondering', 52161),\n",
              " ('eyebrow', 52122),\n",
              " ('husband', 52093),\n",
              " ('guys', 52075),\n",
              " ('easily', 52050),\n",
              " ('lip', 52048),\n",
              " ('direction', 52008),\n",
              " ('usually', 51999),\n",
              " ('hot', 51871),\n",
              " ('learn', 51857),\n",
              " ('hated', 51847),\n",
              " ('crying', 51793),\n",
              " ('future', 51769),\n",
              " ('starting', 51697),\n",
              " ('edge', 51564),\n",
              " ('eat', 51480),\n",
              " ('enjoy', 51475),\n",
              " ('flying', 51328),\n",
              " ('self', 51297),\n",
              " ('azkaban', 50971),\n",
              " ('low', 50893),\n",
              " ('shocked', 50754),\n",
              " ('offered', 50736),\n",
              " ('cheeks', 50577),\n",
              " ('hoping', 50509),\n",
              " ('falling', 50478),\n",
              " ('damn', 50429),\n",
              " ('age', 50424),\n",
              " ('powerful', 50388),\n",
              " ('tightly', 50349),\n",
              " ('hide', 50281),\n",
              " ('earlier', 50236),\n",
              " ('send', 50206),\n",
              " ('knees', 50147),\n",
              " ('money', 50007),\n",
              " ('train', 49984),\n",
              " ('drink', 49836),\n",
              " ('missed', 49826),\n",
              " ('pair', 49793),\n",
              " ('ravenclaw', 49789),\n",
              " ('pocket', 49758),\n",
              " ('disappeared', 49744),\n",
              " ('speaking', 49739),\n",
              " ('choice', 49686),\n",
              " ('god', 49579),\n",
              " ('lived', 49537),\n",
              " ('aware', 49515),\n",
              " ('single', 49468),\n",
              " ('spot', 49403),\n",
              " ('expect', 49216),\n",
              " ('definitely', 49178),\n",
              " ('wake', 49124),\n",
              " ('handed', 48943),\n",
              " ('putting', 48808),\n",
              " ('present', 48758),\n",
              " ('eventually', 48750),\n",
              " ('hug', 48749),\n",
              " ('aunt', 48652),\n",
              " ('bedroom', 48533),\n",
              " ('forest', 48464),\n",
              " ('mirror', 48432),\n",
              " ('killing', 48341),\n",
              " ('ears', 48292),\n",
              " ('dress', 48172),\n",
              " ('simple', 48102),\n",
              " ('scared', 47933),\n",
              " ('check', 47890),\n",
              " ('waved', 47791),\n",
              " ('laughter', 47776),\n",
              " ('paper', 47704),\n",
              " ('continue', 47581),\n",
              " ('admit', 47576),\n",
              " ('join', 47366),\n",
              " ('sounds', 47344),\n",
              " ('exclaimed', 47232),\n",
              " ('feelings', 47147),\n",
              " ('force', 47096),\n",
              " ('breathing', 47048),\n",
              " ('blinked', 46983),\n",
              " ('corridor', 46976),\n",
              " ('box', 46922),\n",
              " ('slipped', 46775),\n",
              " ('relief', 46718),\n",
              " ('showed', 46700),\n",
              " ('forehead', 46574),\n",
              " ('sleeping', 46554),\n",
              " ('writing', 46547),\n",
              " ('smirk', 46477),\n",
              " ('doors', 46438),\n",
              " ('younger', 46387),\n",
              " ('final', 46302),\n",
              " ('news', 46246),\n",
              " ('wands', 46226),\n",
              " ('murmured', 46093),\n",
              " ('protect', 45957),\n",
              " ('causing', 45865),\n",
              " ('ball', 45735),\n",
              " ('bathroom', 45654),\n",
              " ('snake', 45455),\n",
              " ('kissing', 45431),\n",
              " ('wards', 45191),\n",
              " ('dangerous', 45148),\n",
              " ('steps', 45138),\n",
              " ('business', 45114),\n",
              " ('seamus', 45063),\n",
              " ('lunch', 44976),\n",
              " ('dean', 44922),\n",
              " ('glance', 44833),\n",
              " ('evil', 44805),\n",
              " ('alley', 44697),\n",
              " ('obvious', 44692),\n",
              " ('cause', 44604),\n",
              " ('entrance', 44580),\n",
              " ('dream', 44574),\n",
              " ('party', 44493),\n",
              " ('sudden', 44492),\n",
              " ('stayed', 44429),\n",
              " ('ring', 44424),\n",
              " ('cedric', 44401),\n",
              " ('married', 44395),\n",
              " ('busy', 44393),\n",
              " ('foot', 44386),\n",
              " ('apart', 44378),\n",
              " ('dragon', 44361),\n",
              " ('visit', 44243),\n",
              " ('touched', 44215),\n",
              " ('fuck', 44206),\n",
              " ('honestly', 44169),\n",
              " ('difficult', 44167),\n",
              " ('needs', 44163),\n",
              " ('fault', 43996),\n",
              " ('imagine', 43992),\n",
              " ('drew', 43951),\n",
              " ('number', 43950),\n",
              " ('blonde', 43917),\n",
              " ('stuff', 43868),\n",
              " ('burst', 43738),\n",
              " ('leaning', 43700),\n",
              " ('walls', 43693),\n",
              " ('aside', 43677),\n",
              " ('human', 43638),\n",
              " ('groaned', 43617),\n",
              " ('slytherins', 43603),\n",
              " ('crowd', 43585),\n",
              " ('darkness', 43544),\n",
              " ('interrupted', 43353),\n",
              " ('hello', 43204),\n",
              " ('couch', 43193),\n",
              " ('silently', 43163),\n",
              " ('odd', 43156),\n",
              " ('teacher', 43108),\n",
              " ('learned', 43098),\n",
              " ('remained', 43079),\n",
              " ('tower', 43069),\n",
              " ('stated', 42866),\n",
              " ('werewolf', 42865),\n",
              " ('match', 42863),\n",
              " ('stuck', 42854),\n",
              " ('ahead', 42720),\n",
              " ('lavender', 42715),\n",
              " ('date', 42646),\n",
              " ('tight', 42581),\n",
              " ('growled', 42577),\n",
              " ('wanting', 42504),\n",
              " ('spend', 42476),\n",
              " ('allow', 42298),\n",
              " ('born', 42258),\n",
              " ('lose', 42233),\n",
              " ('points', 42097),\n",
              " ('finish', 42034),\n",
              " ('relationship', 42010),\n",
              " ('grew', 41992),\n",
              " ('act', 41951),\n",
              " ('heavy', 41948),\n",
              " ('hiding', 41928),\n",
              " ('realised', 41922),\n",
              " ('regulus', 41781),\n",
              " ('umbridge', 41764),\n",
              " ('response', 41752),\n",
              " ('shop', 41735),\n",
              " ('crossed', 41707),\n",
              " ('written', 41683),\n",
              " ('caused', 41644),\n",
              " ('round', 41635),\n",
              " ('wing', 41460),\n",
              " ('joined', 41412),\n",
              " ('review', 41388),\n",
              " ('huge', 41326),\n",
              " ('nervous', 41274),\n",
              " ('talked', 41215),\n",
              " ('floo', 41177),\n",
              " ('comes', 41166),\n",
              " ('sick', 41052),\n",
              " ('elves', 41010),\n",
              " ('unable', 41007),\n",
              " ('month', 40985),\n",
              " ('classes', 40850),\n",
              " ('settled', 40830),\n",
              " ('sweet', 40812),\n",
              " ('slid', 40797),\n",
              " ('contact', 40733),\n",
              " ('tree', 40725),\n",
              " ('considered', 40671),\n",
              " ('complete', 40667),\n",
              " ('hardly', 40542),\n",
              " ('possibly', 40508),\n",
              " ('wonderful', 40480),\n",
              " ('woke', 40453),\n",
              " ('lie', 40273),\n",
              " ('begin', 40263),\n",
              " ('birthday', 40181),\n",
              " ('wished', 39852),\n",
              " ('finding', 39845),\n",
              " ('healer', 39839),\n",
              " ('locked', 39772),\n",
              " ('hogsmeade', 39758),\n",
              " ('admitted', 39736),\n",
              " ('dressed', 39725),\n",
              " ('beneath', 39683),\n",
              " ('picture', 39641),\n",
              " ('seven', 39609),\n",
              " ('suggested', 39543),\n",
              " ('classroom', 39538),\n",
              " ('waist', 39501),\n",
              " ('ignored', 39478),\n",
              " ('funny', 39478),\n",
              " ('seriously', 39473),\n",
              " ('interesting', 39405),\n",
              " ('mention', 39363),\n",
              " ('reminded', 39328),\n",
              " ('lady', 39302),\n",
              " ('presence', 39296),\n",
              " ('pleasure', 39239),\n",
              " ('pleased', 39215),\n",
              " ('demanded', 39153),\n",
              " ('welcome', 39142),\n",
              " ('sky', 39127),\n",
              " ('witches', 39056),\n",
              " ('dare', 39046),\n",
              " ('absolutely', 39035),\n",
              " ('reach', 38988),\n",
              " ('portrait', 38958),\n",
              " ('longbottom', 38917),\n",
              " ('firmly', 38779),\n",
              " ('faces', 38775),\n",
              " ('members', 38745),\n",
              " ('willing', 38737),\n",
              " ('lives', 38717),\n",
              " ('fucking', 38525),\n",
              " ('worth', 38524),\n",
              " ('tiny', 38499),\n",
              " ('lead', 38418),\n",
              " ('haired', 38402),\n",
              " ('special', 38384),\n",
              " ('wedding', 38330),\n",
              " ('snorted', 38325),\n",
              " ('realize', 38225),\n",
              " ('slow', 38191),\n",
              " ('sharp', 38178),\n",
              " ('forever', 38152),\n",
              " ('loudly', 38151),\n",
              " ('missing', 38149),\n",
              " ('escape', 38139),\n",
              " ('study', 38131),\n",
              " ('opening', 38080),\n",
              " ('afternoon', 38075),\n",
              " ('poor', 38074),\n",
              " ('understood', 38011),\n",
              " ('upset', 37985),\n",
              " ('kids', 37974),\n",
              " ('lap', 37912),\n",
              " ('instantly', 37830),\n",
              " ('flat', 37821),\n",
              " ('brilliant', 37800),\n",
              " ('leg', 37770),\n",
              " ('lightly', 37748),\n",
              " ('grey', 37580),\n",
              " ('perfectly', 37571),\n",
              " ('helping', 37487),\n",
              " ('noise', 37452),\n",
              " ('glasses', 37327),\n",
              " ('hearing', 37242),\n",
              " ('disclaimer', 37196),\n",
              " ('screaming', 37184),\n",
              " ('hugged', 37176),\n",
              " ('forgotten', 37136),\n",
              " ('attempt', 37129),\n",
              " ('plans', 37116),\n",
              " ('hufflepuff', 37049),\n",
              " ('pointing', 37031),\n",
              " ('dance', 37016),\n",
              " ('happening', 37013),\n",
              " ('surely', 36980),\n",
              " ('theo', 36950),\n",
              " ('clean', 36939),\n",
              " ('pick', 36823),\n",
              " ('pay', 36777),\n",
              " ('nod', 36698),\n",
              " ('dudley', 36624),\n",
              " ('fit', 36592),\n",
              " ('sign', 36566),\n",
              " ('fireplace', 36547)]"
            ]
          },
          "metadata": {},
          "execution_count": 5
        }
      ],
      "source": [
        "top_1000 = sorted(list(D.items()), key= lambda x: x[1], reverse=True)[:1000]\n",
        "top_1000"
      ]
    },
    {
      "cell_type": "code",
      "source": [
        "top_10 = sorted(list(names1.items()), key= lambda x: x[1], reverse=True)[:10]\n",
        "top_10"
      ],
      "metadata": {
        "colab": {
          "base_uri": "https://localhost:8080/"
        },
        "id": "mUq0wU4pkBds",
        "outputId": "56d45bb3-ac79-4ebf-cdb1-1bb27d83985d"
      },
      "execution_count": null,
      "outputs": [
        {
          "output_type": "execute_result",
          "data": {
            "text/plain": [
              "[('harry potter', 4629024),\n",
              " ('hermione granger', 2295874),\n",
              " ('draco malfoy', 1879576),\n",
              " ('severus snape', 1317845),\n",
              " ('bloody baron', 1210250),\n",
              " ('ronald weasley', 1190823),\n",
              " ('james potter i', 1095258),\n",
              " ('luna lovegood', 1059119),\n",
              " ('lily j. potter', 1050145),\n",
              " ('sirius black', 1018610)]"
            ]
          },
          "metadata": {},
          "execution_count": 7
        }
      ]
    },
    {
      "cell_type": "code",
      "source": [
        "top_10 = sorted(list(names2.items()), key= lambda x: x[1], reverse=True)[:10]\n",
        "top_10"
      ],
      "metadata": {
        "colab": {
          "base_uri": "https://localhost:8080/"
        },
        "id": "_nPfKYbAkOhH",
        "outputId": "0c3a4eee-6a89-483b-8cf2-e0e807ace675"
      },
      "execution_count": null,
      "outputs": [
        {
          "output_type": "execute_result",
          "data": {
            "text/plain": [
              "[('professor snape', 46387),\n",
              " ('professor mcgonagall', 43248),\n",
              " ('professor dumbledore', 24576),\n",
              " ('professor lupin', 10338),\n",
              " ('professor flitwick', 9600),\n",
              " ('professor slughorn', 5941),\n",
              " ('professor sprout', 5807),\n",
              " ('professor harry', 5031),\n",
              " ('professor said', 4613),\n",
              " ('professor trelawney', 3203)]"
            ]
          },
          "metadata": {},
          "execution_count": 8
        }
      ]
    },
    {
      "cell_type": "code",
      "source": [
        "while True:\n",
        "  pass"
      ],
      "metadata": {
        "id": "OYu1nvjfkUjX"
      },
      "execution_count": null,
      "outputs": []
    },
    {
      "cell_type": "markdown",
      "metadata": {
        "id": "wKUKL4xbQq7T"
      },
      "source": [
        "Часть 2. [2 балла] Модели представления слов\n",
        "\n",
        "Обучите модель представления слов (word2vec, GloVe, fastText или любую другую) на материале корпуса HPAC.\n",
        "\n",
        "Продемонстрируйте, как работает поиск синонимов, ассоциаций, лишних слов в обученной модели.\n",
        "\n",
        "Визуализируйте топ-1000 слов по частоте без учета стоп-слов (п. 1.1) с помощью TSNE или UMAP (https://umap-learn.readthedocs.io).\n"
      ]
    },
    {
      "cell_type": "code",
      "execution_count": null,
      "metadata": {
        "id": "kGjHpfhqtpUT",
        "colab": {
          "base_uri": "https://localhost:8080/"
        },
        "outputId": "7b5521e8-3a87-43f5-daa2-38eac233608e"
      },
      "outputs": [
        {
          "output_type": "stream",
          "name": "stdout",
          "text": [
            "[0/36225]\n",
            "[3000/36225]\n",
            "[6000/36225]\n",
            "[9000/36225]\n",
            "[12000/36225]\n",
            "[15000/36225]\n",
            "[18000/36225]\n",
            "[21000/36225]\n",
            "[24000/36225]\n",
            "[27000/36225]\n",
            "[30000/36225]\n",
            "[33000/36225]\n",
            "[36000/36225]\n",
            "[0/36225]\n",
            "[3000/36225]\n",
            "[6000/36225]\n",
            "[9000/36225]\n",
            "[12000/36225]\n",
            "[15000/36225]\n",
            "[18000/36225]\n",
            "[21000/36225]\n",
            "[24000/36225]\n",
            "[27000/36225]\n",
            "[30000/36225]\n",
            "[33000/36225]\n",
            "[36000/36225]\n",
            "[0/36225]\n",
            "[3000/36225]\n",
            "[6000/36225]\n",
            "[9000/36225]\n",
            "[12000/36225]\n",
            "[15000/36225]\n",
            "[18000/36225]\n",
            "[21000/36225]\n",
            "[24000/36225]\n",
            "[27000/36225]\n",
            "[30000/36225]\n",
            "[33000/36225]\n",
            "[36000/36225]\n",
            "[0/36225]\n",
            "[3000/36225]\n",
            "[6000/36225]\n",
            "[9000/36225]\n",
            "[12000/36225]\n",
            "[15000/36225]\n",
            "[18000/36225]\n",
            "[21000/36225]\n",
            "[24000/36225]\n",
            "[27000/36225]\n",
            "[30000/36225]\n",
            "[33000/36225]\n",
            "[36000/36225]\n",
            "[0/36225]\n",
            "[3000/36225]\n",
            "[6000/36225]\n",
            "[9000/36225]\n",
            "[12000/36225]\n",
            "[15000/36225]\n",
            "[18000/36225]\n",
            "[21000/36225]\n",
            "[24000/36225]\n",
            "[27000/36225]\n",
            "[30000/36225]\n",
            "[33000/36225]\n",
            "[36000/36225]\n",
            "[0/36225]\n",
            "[3000/36225]\n",
            "[6000/36225]\n",
            "[9000/36225]\n",
            "[12000/36225]\n",
            "[15000/36225]\n",
            "[18000/36225]\n",
            "[21000/36225]\n",
            "[24000/36225]\n",
            "[27000/36225]\n",
            "[30000/36225]\n",
            "[33000/36225]\n",
            "[36000/36225]\n"
          ]
        }
      ],
      "source": [
        "model = Word2Vec(dataloader)"
      ]
    },
    {
      "cell_type": "markdown",
      "source": [
        "Рассмотрим топ 10 самых похожих слов по отношению к имени главного героя.\n",
        "\n",
        "Замечание: параметр `positive` принимает список слов, которые определяеются векторами, направленными положительно относительно векторов результирующих слов.   "
      ],
      "metadata": {
        "id": "VnPSJcr8mtCs"
      }
    },
    {
      "cell_type": "code",
      "execution_count": null,
      "metadata": {
        "colab": {
          "base_uri": "https://localhost:8080/"
        },
        "id": "zc-Ncd2BaTme",
        "outputId": "2b91a981-3cfe-433a-9a18-c360cbf92609"
      },
      "outputs": [
        {
          "data": {
            "text/plain": [
              "[('draco', 0.8949041366577148),\n",
              " ('hermione', 0.8202674388885498),\n",
              " ('ron', 0.7905620336532593),\n",
              " ('ginny', 0.7710343599319458),\n",
              " ('scorpius', 0.7670281529426575),\n",
              " ('he', 0.7443080544471741),\n",
              " ('severus', 0.7293290495872498),\n",
              " ('neville', 0.7155630588531494),\n",
              " ('snape', 0.7044284343719482),\n",
              " ('percy', 0.6994354128837585)]"
            ]
          },
          "execution_count": 37,
          "metadata": {},
          "output_type": "execute_result"
        }
      ],
      "source": [
        "model.wv.most_similar(positive=[\"harry\"])"
      ]
    },
    {
      "cell_type": "markdown",
      "source": [
        "таким образом, самыми похожими словами оказались имена друзей главного героя, а так же местоимение 'he'."
      ],
      "metadata": {
        "id": "FFq4KMgync6L"
      }
    },
    {
      "cell_type": "markdown",
      "source": [
        "рассмотрим как будет работать более сложная векторная арифметика:"
      ],
      "metadata": {
        "id": "Wl6raWd2nudl"
      }
    },
    {
      "cell_type": "code",
      "execution_count": null,
      "metadata": {
        "colab": {
          "base_uri": "https://localhost:8080/"
        },
        "id": "rI4btJat47yg",
        "outputId": "61cd33b7-8367-4f78-c79c-e86aea1090eb"
      },
      "outputs": [
        {
          "name": "stderr",
          "output_type": "stream",
          "text": [
            "/usr/local/lib/python3.7/dist-packages/ipykernel_launcher.py:1: DeprecationWarning: Call to deprecated `most_similar` (Method will be removed in 4.0.0, use self.wv.most_similar() instead).\n",
            "  \"\"\"Entry point for launching an IPython kernel.\n"
          ]
        },
        {
          "data": {
            "text/plain": [
              "[('draco', 0.7418736219406128),\n",
              " ('ginny', 0.7195045351982117),\n",
              " ('percy', 0.7141473293304443),\n",
              " ('charlie', 0.6926494836807251),\n",
              " ('cedric', 0.6864795684814453),\n",
              " ('dudley', 0.6822717189788818),\n",
              " ('george', 0.6758166551589966),\n",
              " ('neville', 0.6711075901985168),\n",
              " ('scorpius', 0.6673239469528198),\n",
              " ('fred', 0.6557589173316956)]"
            ]
          },
          "execution_count": 40,
          "metadata": {},
          "output_type": "execute_result"
        }
      ],
      "source": [
        "# я не разбираюсь во вселенной Гарри Поттера, поэтому правдоподобных аналогий придумать не могу\n",
        "model.most_similar(positive=['ron', 'harry'], negative=['hermione'])"
      ]
    },
    {
      "cell_type": "markdown",
      "source": [
        "наконец, рассмотрим умеет ли модель определять \"лишние\" элементы из семантического ряда:"
      ],
      "metadata": {
        "id": "yLGA9l_YoC_4"
      }
    },
    {
      "cell_type": "code",
      "execution_count": null,
      "metadata": {
        "colab": {
          "base_uri": "https://localhost:8080/",
          "height": 35
        },
        "id": "qkABIdr73QDU",
        "outputId": "915937b1-4e0e-4091-ae84-b306f6b33f5f"
      },
      "outputs": [
        {
          "data": {
            "application/vnd.google.colaboratory.intrinsic+json": {
              "type": "string"
            },
            "text/plain": [
              "'voldemort'"
            ]
          },
          "execution_count": 39,
          "metadata": {},
          "output_type": "execute_result"
        }
      ],
      "source": [
        "model.wv.doesnt_match(['harry', 'ron', 'hermione' , 'voldemort'])"
      ]
    },
    {
      "cell_type": "markdown",
      "source": [
        "первые три слова - это имена протагонистов, тогда как последние -- имя антагониста."
      ],
      "metadata": {
        "id": "yT7rhQOyoO1t"
      }
    },
    {
      "cell_type": "markdown",
      "source": [
        "выполним визуализацию самых частотных слов с помощью метода t-SNE:"
      ],
      "metadata": {
        "id": "cv5w7wy6onMH"
      }
    },
    {
      "cell_type": "code",
      "execution_count": null,
      "metadata": {
        "id": "FWJ4nmoE8GPy",
        "colab": {
          "base_uri": "https://localhost:8080/"
        },
        "outputId": "2956edcf-b04f-4407-d364-3d2c9994049e"
      },
      "outputs": [
        {
          "output_type": "stream",
          "name": "stderr",
          "text": [
            "/usr/local/lib/python3.7/dist-packages/sklearn/manifold/_t_sne.py:783: FutureWarning: The default initialization in TSNE will change from 'random' to 'pca' in 1.2.\n",
            "  FutureWarning,\n",
            "/usr/local/lib/python3.7/dist-packages/sklearn/manifold/_t_sne.py:793: FutureWarning: The default learning rate in TSNE will change from 200.0 to 'auto' in 1.2.\n",
            "  FutureWarning,\n"
          ]
        }
      ],
      "source": [
        "vectors = [model.wv[item[0]] for item in top_1000]\n",
        "words = [item[0] for item in top_1000]"
      ]
    },
    {
      "cell_type": "markdown",
      "source": [
        "визуализируем первые 200 слов с аннотацией"
      ],
      "metadata": {
        "id": "Cj0fqjF7nIAs"
      }
    },
    {
      "cell_type": "code",
      "execution_count": null,
      "metadata": {
        "colab": {
          "base_uri": "https://localhost:8080/",
          "height": 743
        },
        "id": "Z0cqKHWX8H_x",
        "outputId": "1459d108-49f3-4d8e-963c-07ef2c2ffa09"
      },
      "outputs": [
        {
          "output_type": "stream",
          "name": "stderr",
          "text": [
            "/usr/local/lib/python3.7/dist-packages/sklearn/manifold/_t_sne.py:783: FutureWarning: The default initialization in TSNE will change from 'random' to 'pca' in 1.2.\n",
            "  FutureWarning,\n",
            "/usr/local/lib/python3.7/dist-packages/sklearn/manifold/_t_sne.py:793: FutureWarning: The default learning rate in TSNE will change from 200.0 to 'auto' in 1.2.\n",
            "  FutureWarning,\n"
          ]
        },
        {
          "output_type": "display_data",
          "data": {
            "text/plain": [
              "<Figure size 800x800 with 1 Axes>"
            ],
            "image/png": "[encoded data removed]"
          },
          "metadata": {
            "needs_background": "light"
          }
        }
      ],
      "source": [
        "Y = tsne.fit_transform(vectors[:200]).T\n",
        "figure(figsize=(10, 10), dpi=80)\n",
        "plt.scatter(Y[0], Y[1])\n",
        "for i in range(len(Y[0])):\n",
        "    plt.annotate(words[i], (Y[0][i], Y[1][i] + 0.2))\n",
        "plt.show()"
      ]
    },
    {
      "cell_type": "markdown",
      "source": [
        "заметим, что семантически близкие слова образуют класстеры: например `[arms, hands, hand]`, `[home, house, parents, family]`, `[magic, spell, wand]`, `[came, coming, went, walked, leave]` и др."
      ],
      "metadata": {
        "id": "wuzWQQRQ0tMA"
      }
    },
    {
      "cell_type": "markdown",
      "source": [
        "визуализируем все 1000 слов без аннотации"
      ],
      "metadata": {
        "id": "pMdD_QUnn9Ok"
      }
    },
    {
      "cell_type": "code",
      "source": [
        "Y = tsne.fit_transform(vectors).T\n",
        "figure(figsize=(10, 10), dpi=80)\n",
        "plt.scatter(Y[0], Y[1])\n",
        "plt.show()"
      ],
      "metadata": {
        "colab": {
          "base_uri": "https://localhost:8080/",
          "height": 743
        },
        "id": "LpzVAkSMn5OB",
        "outputId": "698f9a52-d1af-485b-9dc7-3bc2bdf1faf7"
      },
      "execution_count": null,
      "outputs": [
        {
          "output_type": "stream",
          "name": "stderr",
          "text": [
            "/usr/local/lib/python3.7/dist-packages/sklearn/manifold/_t_sne.py:783: FutureWarning: The default initialization in TSNE will change from 'random' to 'pca' in 1.2.\n",
            "  FutureWarning,\n",
            "/usr/local/lib/python3.7/dist-packages/sklearn/manifold/_t_sne.py:793: FutureWarning: The default learning rate in TSNE will change from 200.0 to 'auto' in 1.2.\n",
            "  FutureWarning,\n"
          ]
        },
        {
          "output_type": "display_data",
          "data": {
            "text/plain": [
              "<Figure size 800x800 with 1 Axes>"
            ],
            "image/png": "[encoded data removed]"
          },
          "metadata": {
            "needs_background": "light"
          }
        }
      ]
    },
    {
      "cell_type": "markdown",
      "metadata": {
        "id": "Ur-ALufBG9Q-"
      },
      "source": [
        "## Часть 3. [5 баллов] Классификация текстов\n",
        "Задача классификации формулируется так: данный фрагмент фанфика описывают какую-то ситуацию, которая предшествует произнесению заклинания. Требуется по тексту предсказать, какое именно заклинание будет произнесено. Таким образом, заклинание - это фактически метка класса. Основная мера качества – macro $F_1$.\n",
        "Обучите несколько классификаторов и сравните их между собой. Оцените качество классификаторов на частых и редких классах. Какие классы чаще всего оказываются перепутаны? Связаны ли ошибки со смыслом заклинаний?\n",
        "\n",
        "Используйте фрагменты из множества train для обучения, из множества dev для отладки, из множества test – для тестирования и получения итоговых результатов. \n"
      ]
    },
    {
      "cell_type": "markdown",
      "metadata": {
        "id": "JXT2geXTHgKQ"
      },
      "source": [
        "1. [1 балл] Используйте fastText в качестве baseline-классификатора."
      ]
    },
    {
      "cell_type": "markdown",
      "source": [
        "обучим эмбединги с помощью FastText"
      ],
      "metadata": {
        "id": "kmcd2tlwoJwC"
      }
    },
    {
      "cell_type": "code",
      "execution_count": null,
      "metadata": {
        "id": "BJnx-gfNeRfg"
      },
      "outputs": [],
      "source": [
        "embs = FastText(dataloader)"
      ]
    },
    {
      "cell_type": "markdown",
      "source": [
        "подготовим данные для обучения классификатора"
      ],
      "metadata": {
        "id": "c80qGl4yoSMv"
      }
    },
    {
      "cell_type": "code",
      "execution_count": null,
      "metadata": {
        "colab": {
          "base_uri": "https://localhost:8080/",
          "height": 206
        },
        "id": "0AcEyQ2-85FK",
        "outputId": "f5a18177-67b8-498d-d1c8-5711c74dbebc"
      },
      "outputs": [
        {
          "output_type": "execute_result",
          "data": {
            "text/plain": [
              "                 0             1  \\\n",
              "0    7642954.0.676    RIDDIKULUS   \n",
              "1  10443333.0.5753    RIDDIKULUS   \n",
              "2   4703706.0.8690       STUPEFY   \n",
              "3   4593427.0.1815         ACCIO   \n",
              "4   4278446.0.2692  EXPELLIARMUS   \n",
              "\n",
              "                                                   2  \n",
              "0  were staring at her . she was up next to face ...  \n",
              "1  that whole time . her first reaction , for whi...  \n",
              "2  we watched his inglorious withdrawal together ...  \n",
              "3  my wand , `` incendio . '' this wretched chill...  \n",
              "4  already compared ours , they 're the same ever...  "
            ],
            "text/html": [
              "\n",
              "  <div id=\"df-184a500b-34de-40c1-9eba-93d76c8b53c1\">\n",
              "    <div class=\"colab-df-container\">\n",
              "      <div>\n",
              "<style scoped>\n",
              "    .dataframe tbody tr th:only-of-type {\n",
              "        vertical-align: middle;\n",
              "    }\n",
              "\n",
              "    .dataframe tbody tr th {\n",
              "        vertical-align: top;\n",
              "    }\n",
              "\n",
              "    .dataframe thead th {\n",
              "        text-align: right;\n",
              "    }\n",
              "</style>\n",
              "<table border=\"1\" class=\"dataframe\">\n",
              "  <thead>\n",
              "    <tr style=\"text-align: right;\">\n",
              "      <th></th>\n",
              "      <th>0</th>\n",
              "      <th>1</th>\n",
              "      <th>2</th>\n",
              "    </tr>\n",
              "  </thead>\n",
              "  <tbody>\n",
              "    <tr>\n",
              "      <th>0</th>\n",
              "      <td>7642954.0.676</td>\n",
              "      <td>RIDDIKULUS</td>\n",
              "      <td>were staring at her . she was up next to face ...</td>\n",
              "    </tr>\n",
              "    <tr>\n",
              "      <th>1</th>\n",
              "      <td>10443333.0.5753</td>\n",
              "      <td>RIDDIKULUS</td>\n",
              "      <td>that whole time . her first reaction , for whi...</td>\n",
              "    </tr>\n",
              "    <tr>\n",
              "      <th>2</th>\n",
              "      <td>4703706.0.8690</td>\n",
              "      <td>STUPEFY</td>\n",
              "      <td>we watched his inglorious withdrawal together ...</td>\n",
              "    </tr>\n",
              "    <tr>\n",
              "      <th>3</th>\n",
              "      <td>4593427.0.1815</td>\n",
              "      <td>ACCIO</td>\n",
              "      <td>my wand , `` incendio . '' this wretched chill...</td>\n",
              "    </tr>\n",
              "    <tr>\n",
              "      <th>4</th>\n",
              "      <td>4278446.0.2692</td>\n",
              "      <td>EXPELLIARMUS</td>\n",
              "      <td>already compared ours , they 're the same ever...</td>\n",
              "    </tr>\n",
              "  </tbody>\n",
              "</table>\n",
              "</div>\n",
              "      <button class=\"colab-df-convert\" onclick=\"convertToInteractive('df-184a500b-34de-40c1-9eba-93d76c8b53c1')\"\n",
              "              title=\"Convert this dataframe to an interactive table.\"\n",
              "              style=\"display:none;\">\n",
              "        \n",
              "  <svg xmlns=\"http://www.w3.org/2000/svg\" height=\"24px\"viewBox=\"0 0 24 24\"\n",
              "       width=\"24px\">\n",
              "    <path d=\"M0 0h24v24H0V0z\" fill=\"none\"/>\n",
              "    <path d=\"M18.56 5.44l.94 2.06.94-2.06 2.06-.94-2.06-.94-.94-2.06-.94 2.06-2.06.94zm-11 1L8.5 8.5l.94-2.06 2.06-.94-2.06-.94L8.5 2.5l-.94 2.06-2.06.94zm10 10l.94 2.06.94-2.06 2.06-.94-2.06-.94-.94-2.06-.94 2.06-2.06.94z\"/><path d=\"M17.41 7.96l-1.37-1.37c-.4-.4-.92-.59-1.43-.59-.52 0-1.04.2-1.43.59L10.3 9.45l-7.72 7.72c-.78.78-.78 2.05 0 2.83L4 21.41c.39.39.9.59 1.41.59.51 0 1.02-.2 1.41-.59l7.78-7.78 2.81-2.81c.8-.78.8-2.07 0-2.86zM5.41 20L4 18.59l7.72-7.72 1.47 1.35L5.41 20z\"/>\n",
              "  </svg>\n",
              "      </button>\n",
              "      \n",
              "  <style>\n",
              "    .colab-df-container {\n",
              "      display:flex;\n",
              "      flex-wrap:wrap;\n",
              "      gap: 12px;\n",
              "    }\n",
              "\n",
              "    .colab-df-convert {\n",
              "      background-color: #E8F0FE;\n",
              "      border: none;\n",
              "      border-radius: 50%;\n",
              "      cursor: pointer;\n",
              "      display: none;\n",
              "      fill: #1967D2;\n",
              "      height: 32px;\n",
              "      padding: 0 0 0 0;\n",
              "      width: 32px;\n",
              "    }\n",
              "\n",
              "    .colab-df-convert:hover {\n",
              "      background-color: #E2EBFA;\n",
              "      box-shadow: 0px 1px 2px rgba(60, 64, 67, 0.3), 0px 1px 3px 1px rgba(60, 64, 67, 0.15);\n",
              "      fill: #174EA6;\n",
              "    }\n",
              "\n",
              "    [theme=dark] .colab-df-convert {\n",
              "      background-color: #3B4455;\n",
              "      fill: #D2E3FC;\n",
              "    }\n",
              "\n",
              "    [theme=dark] .colab-df-convert:hover {\n",
              "      background-color: #434B5C;\n",
              "      box-shadow: 0px 1px 3px 1px rgba(0, 0, 0, 0.15);\n",
              "      filter: drop-shadow(0px 1px 2px rgba(0, 0, 0, 0.3));\n",
              "      fill: #FFFFFF;\n",
              "    }\n",
              "  </style>\n",
              "\n",
              "      <script>\n",
              "        const buttonEl =\n",
              "          document.querySelector('#df-184a500b-34de-40c1-9eba-93d76c8b53c1 button.colab-df-convert');\n",
              "        buttonEl.style.display =\n",
              "          google.colab.kernel.accessAllowed ? 'block' : 'none';\n",
              "\n",
              "        async function convertToInteractive(key) {\n",
              "          const element = document.querySelector('#df-184a500b-34de-40c1-9eba-93d76c8b53c1');\n",
              "          const dataTable =\n",
              "            await google.colab.kernel.invokeFunction('convertToInteractive',\n",
              "                                                     [key], {});\n",
              "          if (!dataTable) return;\n",
              "\n",
              "          const docLinkHtml = 'Like what you see? Visit the ' +\n",
              "            '<a target=\"_blank\" href=https://colab.research.google.com/notebooks/data_table.ipynb>data table notebook</a>'\n",
              "            + ' to learn more about interactive tables.';\n",
              "          element.innerHTML = '';\n",
              "          dataTable['output_type'] = 'display_data';\n",
              "          await google.colab.output.renderOutput(dataTable, element);\n",
              "          const docLink = document.createElement('div');\n",
              "          docLink.innerHTML = docLinkHtml;\n",
              "          element.appendChild(docLink);\n",
              "        }\n",
              "      </script>\n",
              "    </div>\n",
              "  </div>\n",
              "  "
            ]
          },
          "metadata": {},
          "execution_count": 15
        }
      ],
      "source": [
        "import pandas as pd\n",
        "df_train = pd.read_csv('/content/hpac_corpus/hpac_training_128.tsv', sep = '\\t', header = None)\n",
        "df_test = pd.read_csv('/content/hpac_corpus/hpac_test_128.tsv', sep = '\\t', header = None)\n",
        "df_dev = pd.read_csv('/content/hpac_corpus/hpac_dev_128.tsv', sep = '\\t', header = None)\n",
        "df_train.head(5)"
      ]
    },
    {
      "cell_type": "code",
      "execution_count": null,
      "metadata": {
        "id": "ABaOigsn5K31"
      },
      "outputs": [],
      "source": [
        "def preprocess(text):\n",
        "  text = any2unicode(text).lower()\n",
        "  text = preprocess_string(text)\n",
        "  return text\n",
        "\n",
        "def get_dataset(df, id2label, max_length, feature_dim):\n",
        "  dataset = []\n",
        "  for i in tqdm(range(len(df))):\n",
        "    label, text = df.iloc[i][1], df.iloc[i][2]\n",
        "    tokenized = preprocess(text)\n",
        "    vectors = np.zeros(shape=(MAX_LENGTH, FEATURE_DIM))\n",
        "    for i in range(min(MAX_LENGTH, len(tokenized))):\n",
        "      try:\n",
        "        vectors[i] = embs.wv.get_vector(tokenized[i])\n",
        "      except:\n",
        "        pass\n",
        "\n",
        "    label_id = id2label.index(label)\n",
        "    dataset.append([vectors, label_id])\n",
        "  return dataset\n",
        "\n",
        "MAX_LENGTH = 128\n",
        "FEATURE_DIM = 100\n",
        "\n",
        "id2label = sorted(list(df_train[1].unique()))\n",
        "\n",
        "train_dataset = get_dataset(df_train, id2label, MAX_LENGTH, FEATURE_DIM)\n",
        "test_dataset = get_dataset(df_test, id2label, MAX_LENGTH, FEATURE_DIM)\n",
        "\n",
        "\n",
        "X_train = [item[0].mean(axis=0) for item in train_dataset]\n",
        "Y_train = [item[1] for item in train_dataset]\n",
        "\n",
        "X_test = [item[0].mean(axis=0) for item in test_dataset]\n",
        "Y_test = [item[1] for item in test_dataset]"
      ]
    },
    {
      "cell_type": "markdown",
      "source": [
        "в качестве классификатора будем использовать мультилинейный перцептрон"
      ],
      "metadata": {
        "id": "Zc_lpYFNoZ6t"
      }
    },
    {
      "cell_type": "code",
      "execution_count": null,
      "metadata": {
        "id": "MdDy1oWr5eeO"
      },
      "outputs": [],
      "source": [
        "from sklearn.neural_network import MLPClassifier\n",
        "\n",
        "clf = MLPClassifier(random_state=1, max_iter=300).fit(X_train, Y_train)"
      ]
    },
    {
      "cell_type": "code",
      "execution_count": null,
      "metadata": {
        "colab": {
          "base_uri": "https://localhost:8080/"
        },
        "id": "eJSmTutN5vFY",
        "outputId": "e6c62ceb-e3c5-455f-8b68-4afe1df5c65d"
      },
      "outputs": [
        {
          "output_type": "stream",
          "name": "stdout",
          "text": [
            "0.3734667103968514\n"
          ]
        }
      ],
      "source": [
        "Y_pred = clf.predict(X_test)\n",
        "f1_score(Y_test, Y_pred, average='macro')"
      ]
    },
    {
      "cell_type": "markdown",
      "metadata": {
        "id": "mKxzmlQog1JB"
      },
      "source": [
        "2. [2 балла] Используйте сверточные  или реккурентные сети в качестве более продвинутого классификатора. Поэкспериментируйте с количеством и размерностью фильтров, используйте разные размеры окон, попробуйте использовать $k$-max pooling. "
      ]
    },
    {
      "cell_type": "markdown",
      "source": [
        "в качестве эмбединггов мы будем использовать word2vec"
      ],
      "metadata": {
        "id": "lVYmXNqTotHM"
      }
    },
    {
      "cell_type": "code",
      "execution_count": null,
      "metadata": {
        "id": "sLL-dYkpvdZ7"
      },
      "outputs": [],
      "source": [
        "embs = Word2Vec(dataloader, size=128)"
      ]
    },
    {
      "cell_type": "markdown",
      "metadata": {
        "id": "AL1LaBl35Uc7"
      },
      "source": [
        "А в качестве классификатора -- свёрточную нейронную сеть. Определим класс свёрточной нейронной сети с помощью библиотеки PyTorch:"
      ]
    },
    {
      "cell_type": "code",
      "execution_count": null,
      "metadata": {
        "id": "0LjB6I6e9BUC"
      },
      "outputs": [],
      "source": [
        "class LanguageModel(nn.Module):\n",
        "  def __init__(self, in_channels, out_channels, num_classes):\n",
        "    super().__init__()\n",
        "    self.in_channels = in_channels\n",
        "    self.out_channels = out_channels\n",
        "\n",
        "    self.dp = nn.Dropout(p=0.2)\n",
        "\n",
        "    self.kernel_1 = 2\n",
        "    self.kernel_2 = 3\n",
        "    self.kernel_3 = 4\n",
        "    self.kernel_4 = 5\n",
        "    \n",
        "    self.stride = 2\n",
        "\n",
        "    self.conv_1 = nn.Conv1d(self.in_channels, self.out_channels, self.kernel_1, self.stride)\n",
        "    self.conv_2 = nn.Conv1d(self.in_channels, self.out_channels, self.kernel_2, self.stride)\n",
        "    self.conv_3 = nn.Conv1d(self.in_channels, self.out_channels, self.kernel_3, self.stride)\n",
        "    self.conv_4 = nn.Conv1d(self.in_channels, self.out_channels, self.kernel_4, self.stride)\n",
        "\n",
        "    self.pool_1 = nn.MaxPool1d(self.kernel_1, self.stride)\n",
        "    self.pool_2 = nn.MaxPool1d(self.kernel_2, self.stride)\n",
        "    self.pool_3 = nn.MaxPool1d(self.kernel_3, self.stride)\n",
        "    self.pool_4 = nn.MaxPool1d(self.kernel_4, self.stride)\n",
        "\n",
        "    self.fc = Linear(2496 , num_classes)\n",
        "  \n",
        "\n",
        "  def forward(self, x):\n",
        "\n",
        "      x1 = self.conv_1(x)\n",
        "      x1 = torch.relu(x1)\n",
        "      x1 = self.pool_1(x1)\n",
        "      \n",
        "      x2 = self.conv_2(x)\n",
        "      x2 = torch.relu((x2))\n",
        "      x2 = self.pool_2(x2)\n",
        "   \n",
        "      x3 = self.conv_3(x)\n",
        "      x3 = torch.relu(x3)\n",
        "      x3 = self.pool_3(x3)\n",
        "      \n",
        "      x4 = self.conv_4(x)\n",
        "      x4 = torch.relu(x4)\n",
        "      x4 = self.pool_4(x4)\n",
        "      \n",
        "      union = torch.cat((x1, x2, x3, x4), 2)\n",
        "      union = union.reshape(union.size(0), -1)\n",
        "\n",
        "      logits = self.fc(self.dp(union))\n",
        "      return logits\n",
        "  \n",
        "  def count_parameters(self):\n",
        "      return sum(p.numel() for p in self.parameters() if p.requires_grad)\n"
      ]
    },
    {
      "cell_type": "code",
      "execution_count": null,
      "metadata": {
        "id": "7SQjE8s037pr"
      },
      "outputs": [],
      "source": [
        "class CustomDataset(Dataset):\n",
        "    def __init__(self, texts, labels, encoder, label_encoding):\n",
        "        super().__init__()\n",
        "        self.X = np.array([encoder.encode(text) for text in texts])\n",
        "        self.Y = np.array([label_encoding.index(label) for label in labels])\n",
        "        self.index = -1\n",
        "        self.size = len(texts)\n",
        "\n",
        "    def __len__(self):\n",
        "        return self.size\n",
        "    def __iter__(self):\n",
        "        return self\n",
        "\n",
        "    def __getitem__(self, index):\n",
        "        return self.X[index].T, self.Y[index].T\n",
        "\n",
        "    def __next__(self):\n",
        "        self.index += 1\n",
        "        if self.index < self.size:\n",
        "            return self.X[self.index].T, self.Y[self.index]\n",
        "        self.index = -1\n",
        "        raise StopIteration"
      ]
    },
    {
      "cell_type": "markdown",
      "source": [
        "определим класс энкодера, задача которого переводит текст в векторное представление"
      ],
      "metadata": {
        "id": "PbZioGxLo6zZ"
      }
    },
    {
      "cell_type": "code",
      "execution_count": null,
      "metadata": {
        "id": "_dPlpLEb4M1u"
      },
      "outputs": [],
      "source": [
        "class Encoder:\n",
        "  def __init__(self, model=None, max_length=84):\n",
        "    self.max_length = max_length\n",
        "    self.model = model\n",
        "  \n",
        "  def train(self, corpus):\n",
        "    self.model = Word2Vec(corpus)\n",
        "  \n",
        "  def encode(self, text):\n",
        "    result = np.zeros(shape=(self.max_length, self.model.vector_size))\n",
        "    tokens = strip_short(strip_punctuation(remove_stopwords(text))).split()\n",
        "    for i in range(len(tokens)):\n",
        "      try:\n",
        "        result[i] = self.model.wv.get_vector(tokens[i])\n",
        "      except:\n",
        "        pass\n",
        "    return result"
      ]
    },
    {
      "cell_type": "markdown",
      "source": [
        "векторизуем тексты и получим датасеты"
      ],
      "metadata": {
        "id": "WpxvdZoGpD5M"
      }
    },
    {
      "cell_type": "code",
      "execution_count": null,
      "metadata": {
        "id": "3YC7n01w38_7",
        "colab": {
          "base_uri": "https://localhost:8080/"
        },
        "outputId": "65d5b9ff-cf9f-4136-c2ac-e5514b162b21"
      },
      "outputs": [
        {
          "output_type": "stream",
          "name": "stdout",
          "text": [
            "torch.Size([64, 128, 84])\n"
          ]
        }
      ],
      "source": [
        "encoder = Encoder(model)\n",
        "\n",
        "id2label = sorted(list(df_train[1].unique()))\n",
        "train_dataset = CustomDataset(df_train[2], df_train[1], encoder, id2label)\n",
        "test_dataset = CustomDataset(df_test[2], df_test[1], encoder, id2label)\n",
        "\n",
        "train_dataloader = DataLoader(train_dataset, batch_size=64)\n",
        "test_dataloader = DataLoader(test_dataset, batch_size=64)\n",
        "\n",
        "del train_dataset, test_dataset\n",
        "\n",
        "for x,y in train_dataloader:\n",
        "  break\n",
        "print(x.shape)"
      ]
    },
    {
      "cell_type": "code",
      "execution_count": null,
      "metadata": {
        "id": "8AG2PQfKDUGU",
        "colab": {
          "base_uri": "https://localhost:8080/"
        },
        "outputId": "7e2dcfa9-0154-4b17-b735-e00e73b8393c"
      },
      "outputs": [
        {
          "output_type": "execute_result",
          "data": {
            "text/plain": [
              "LanguageModel(\n",
              "  (dp): Dropout(p=0.2, inplace=False)\n",
              "  (conv_1): Conv1d(128, 32, kernel_size=(2,), stride=(2,))\n",
              "  (conv_2): Conv1d(128, 32, kernel_size=(3,), stride=(2,))\n",
              "  (conv_3): Conv1d(128, 32, kernel_size=(4,), stride=(2,))\n",
              "  (conv_4): Conv1d(128, 32, kernel_size=(5,), stride=(2,))\n",
              "  (pool_1): MaxPool1d(kernel_size=2, stride=2, padding=0, dilation=1, ceil_mode=False)\n",
              "  (pool_2): MaxPool1d(kernel_size=3, stride=2, padding=0, dilation=1, ceil_mode=False)\n",
              "  (pool_3): MaxPool1d(kernel_size=4, stride=2, padding=0, dilation=1, ceil_mode=False)\n",
              "  (pool_4): MaxPool1d(kernel_size=5, stride=2, padding=0, dilation=1, ceil_mode=False)\n",
              "  (fc): Linear(in_features=2496, out_features=85, bias=True)\n",
              ")"
            ]
          },
          "metadata": {},
          "execution_count": 39
        }
      ],
      "source": [
        "lang_model = LanguageModel(128, 32, len(id2label))\n",
        "lang_model.to('cuda')"
      ]
    },
    {
      "cell_type": "markdown",
      "source": [
        "определим цикл обучения и обучим модель"
      ],
      "metadata": {
        "id": "kcMBruDopLA5"
      }
    },
    {
      "cell_type": "code",
      "execution_count": null,
      "metadata": {
        "colab": {
          "base_uri": "https://localhost:8080/"
        },
        "id": "DypxIpzLDXAe",
        "outputId": "7ff9f7c5-f4aa-41d1-a973-bedadef02b75"
      },
      "outputs": [
        {
          "output_type": "stream",
          "name": "stdout",
          "text": [
            "0 3.266141791158558\n",
            "10 2.3752990027915017\n",
            "20 2.0777562644023835\n",
            "30 1.88427546354556\n",
            "40 1.758653217948121\n",
            "50 1.6587205012597668\n",
            "60 1.5911637328228945\n",
            "70 1.5256938882414466\n",
            "80 1.4763880410824843\n",
            "90 1.431065620492913\n",
            "100 1.390580912139208\n",
            "110 1.3602049154975107\n",
            "120 1.3318154676138165\n",
            "130 1.3050278402700755\n",
            "140 1.2787692790766954\n",
            "150 1.2626363713868893\n",
            "160 1.245099479979508\n",
            "170 1.222914545571066\n",
            "180 1.2089022689451077\n",
            "190 1.192871671095725\n",
            "200 1.17735315025916\n",
            "210 1.1597981641200006\n",
            "220 1.1560030732800302\n",
            "230 1.140925526181148\n",
            "240 1.121609170439361\n",
            "250 1.1170467564842008\n",
            "260 1.1081461629362197\n",
            "270 1.0960532732675359\n",
            "280 1.0879804404434852\n",
            "290 1.0859860132398536\n",
            "300 1.076149951811227\n",
            "310 1.0610117705896545\n",
            "320 1.0608265568802264\n",
            "330 1.0514665201603428\n",
            "340 1.035752102060308\n",
            "350 1.0367705201552273\n",
            "360 1.03385900713089\n",
            "370 1.0168793926959523\n",
            "380 1.013718687443518\n",
            "390 1.0142418109857774\n"
          ]
        }
      ],
      "source": [
        "N_EPOCHS = 400\n",
        "\n",
        "optimizer = optim.Adam(lang_model.parameters(), 0.0001)\n",
        "criterion = nn.CrossEntropyLoss()\n",
        "\n",
        "N, M = len(train_dataloader), len(test_dataloader)\n",
        "\n",
        "for epoch in range(N_EPOCHS):\n",
        "  epoch_loss = 0\n",
        "  S = 0\n",
        "  lang_model.train()\n",
        "  for x,y in train_dataloader:\n",
        "    x, y = x.to('cuda'), y.to('cuda')\n",
        "    optimizer.zero_grad()\n",
        "    y_pred = lang_model(x.float())\n",
        "    loss_value = criterion(y_pred, y)\n",
        "    epoch_loss += loss_value.item()\n",
        "    loss_value.backward()\n",
        "    optimizer.step()\n",
        "  if epoch % 10 == 0: \n",
        "    print(epoch, epoch_loss/N)"
      ]
    },
    {
      "cell_type": "markdown",
      "source": [
        "протестируем модель с помощью F1 score"
      ],
      "metadata": {
        "id": "y5y3UZOopQ22"
      }
    },
    {
      "cell_type": "code",
      "execution_count": null,
      "metadata": {
        "colab": {
          "base_uri": "https://localhost:8080/"
        },
        "id": "X0J5LDlDDe5h",
        "outputId": "d46421f7-ee5d-4e61-8bc2-ad72a1269761"
      },
      "outputs": [
        {
          "name": "stderr",
          "output_type": "stream",
          "text": [
            "100%|██████████| 7679/7679 [00:09<00:00, 816.56it/s]\n"
          ]
        }
      ],
      "source": [
        "from sklearn.metrics import f1_score\n",
        "\n",
        "S = 0\n",
        "M = len(test_dataset)\n",
        "lang_model.eval()\n",
        "\n",
        "Y_pred = []\n",
        "Y_true = []\n",
        "\n",
        "for x, y in tqdm(test_dataset):\n",
        "    x, y = torch.tensor(x).unsqueeze(0).float(), torch.tensor(y).unsqueeze(0)\n",
        "    logits = lang_model(x)\n",
        "    y_pred = torch.argmax(logits)\n",
        "\n",
        "    Y_pred += list(y_pred.numpy())\n",
        "    Y_true += list(y.numpy())"
      ]
    },
    {
      "cell_type": "code",
      "source": [
        "f1_score(Y_true, Y_pred, average='macro')"
      ],
      "metadata": {
        "colab": {
          "base_uri": "https://localhost:8080/"
        },
        "id": "D0fITK5Br9zA",
        "outputId": "a6635ef2-d29d-405b-f1b1-c1c8f4046a40"
      },
      "execution_count": null,
      "outputs": [
        {
          "output_type": "stream",
          "name": "stdout",
          "text": [
            "0.59354323332\n"
          ]
        }
      ]
    },
    {
      "cell_type": "markdown",
      "source": [
        "Таким образом, качество CNN классификатора лучше чем мультилинейного классификатора."
      ],
      "metadata": {
        "id": "-4s7coharjKL"
      }
    },
    {
      "cell_type": "markdown",
      "metadata": {
        "id": "_yu82pZN9zD1"
      },
      "source": [
        "3. [2 балла] Попробуйте расширить обучающее множество за счет аугментации данных. Если вам понадобится словарь синонимов, можно использовать WordNet (ниже вы найдете примеры).\n",
        "\n",
        "Список методов агументации в нашем случае сильно ограничен в силу того, что мы выполняем сильную предобработку: удаляем знаки пунктуации, переводим в нижний регистр, удаляем стоп слова. Наиболее обнадеживающим методов остается замена слов на их синонимы. Выполним эту агументацию с помощью библиотеки `nltk`."
      ]
    },
    {
      "cell_type": "code",
      "execution_count": null,
      "metadata": {
        "colab": {
          "base_uri": "https://localhost:8080/"
        },
        "id": "9SQeXonUAFch",
        "outputId": "3bde4331-0aea-4eff-e6b3-a1f1a248bd2a"
      },
      "outputs": [
        {
          "output_type": "stream",
          "name": "stderr",
          "text": [
            "[nltk_data] Downloading package wordnet to /root/nltk_data...\n",
            "[nltk_data]   Package wordnet is already up-to-date!\n",
            "[nltk_data] Downloading package omw-1.4 to /root/nltk_data...\n",
            "[nltk_data]   Package omw-1.4 is already up-to-date!\n"
          ]
        },
        {
          "output_type": "execute_result",
          "data": {
            "text/plain": [
              "True"
            ]
          },
          "metadata": {},
          "execution_count": 5
        }
      ],
      "source": [
        "# скачиваем WordNet\n",
        "import nltk\n",
        "from nltk.corpus import wordnet as wn\n",
        "nltk.download('wordnet')\n",
        "nltk.download('omw-1.4')"
      ]
    },
    {
      "cell_type": "markdown",
      "source": [
        "К сожалению, многие слова являются многозначными и, следовательно, имеют различные по смыслу синонимы. Например, слово \"cat\" имеет минимум три смысла: 1) An animal of the family Felidae 2) A spiteful or angry woman 3) An enthusiast or player of jazz. Очевидно, что каждого смысла будут сильнр различные между собой слова. \n",
        "\n",
        "Автоматическая проверка корректности синонимов - это отдельная проблема. В рамках нашей задачи мы ограничемся наиболее частоиспользуемым смыслов слова. В wordnet такие смыслы обычно представлены самым первым синсетом."
      ],
      "metadata": {
        "id": "tm7sN3R-uri_"
      }
    },
    {
      "cell_type": "code",
      "execution_count": null,
      "metadata": {
        "id": "QQVdvnGfgVC-"
      },
      "outputs": [],
      "source": [
        "def get_synonym(word):\n",
        "  sns = wn.synsets(word)\n",
        "  for i in range(len(sns)):\n",
        "    for j in range(len(sns[i].lemma_names())):\n",
        "      candidate = sns[i].lemma_names()[j]\n",
        "      if word != candidate:\n",
        "        return candidate\n",
        "  return word\n",
        "\n",
        "def rephrase(tokens):\n",
        "  result = []\n",
        "  for token in tokens:\n",
        "    result.append(get_synonym(token))\n",
        "  return result\n",
        "      "
      ]
    },
    {
      "cell_type": "code",
      "execution_count": null,
      "metadata": {
        "colab": {
          "base_uri": "https://localhost:8080/",
          "height": 36
        },
        "id": "AkDCfOMtgVOC",
        "outputId": "8ccfaffc-dd56-4af1-cc53-0845f64c330c"
      },
      "outputs": [
        {
          "output_type": "execute_result",
          "data": {
            "text/plain": [
              "'involvement'"
            ],
            "application/vnd.google.colaboratory.intrinsic+json": {
              "type": "string"
            }
          },
          "metadata": {},
          "execution_count": 7
        }
      ],
      "source": [
        "get_synonym('interest')"
      ]
    },
    {
      "cell_type": "markdown",
      "source": [
        "Давайте проверим, как работает wordnet на целых предложениях:"
      ],
      "metadata": {
        "id": "7lj8rir9_yhD"
      }
    },
    {
      "cell_type": "code",
      "execution_count": null,
      "metadata": {
        "id": "YxYXfPaXgfVo",
        "colab": {
          "base_uri": "https://localhost:8080/"
        },
        "outputId": "61fcfe3e-1859-479b-f59b-d860178b8a7f"
      },
      "outputs": [
        {
          "output_type": "stream",
          "name": "stdout",
          "text": [
            "before: ['interested', 'wonderful', 'vibe', 'city']\n",
            "after: ['interest', 'fantastic', 'vibration', 'metropolis']\n"
          ]
        }
      ],
      "source": [
        "def preprocess(text):\n",
        "  return strip_short(strip_punctuation(remove_stopwords(text))).split()\n",
        "\n",
        "text = \"I was interested in wonderful vibe of the city\"\n",
        "tokens = preprocess(text)\n",
        "text_augmented = rephrase(tokens)\n",
        "print(f'before: {tokens}')\n",
        "print(f'after: {text_augmented}')"
      ]
    },
    {
      "cell_type": "markdown",
      "source": [
        "Наконец, применим данную функцию к корпусу с помощью модифицированного класса `DataLoader`: с заданной вероятностью мы будем применять аугментацию:"
      ],
      "metadata": {
        "id": "F2FaNFn__7p1"
      }
    },
    {
      "cell_type": "code",
      "source": [
        "class DataLoader:\n",
        "    def __init__(self, dir, aug_func, aug_prob):\n",
        "        self.dir = dir\n",
        "        self.filenames = [filename for filename in os.listdir(dir)]\n",
        "        self.index = -1\n",
        "        self.size = len(self.filenames)\n",
        "        self.aug_func = aug_func\n",
        "        self.aug_prob = aug_prob\n",
        "\n",
        "    def __iter__(self):\n",
        "        return self\n",
        "\n",
        "    def __next__(self):\n",
        "        self.index += 1\n",
        "        if self.index % 3000 == 0:\n",
        "          print(f\"[{self.index}/{self.size}]\")\n",
        "        if self.index < self.size:\n",
        "            with open(self.dir + self.filenames[self.index], 'r') as f:\n",
        "              tokenized_text = strip_short(strip_punctuation(remove_stopwords(f.read()))).split()\n",
        "            \n",
        "            if choice([0, 1], p=[self.prob, 1-self.prob]) == 0:\n",
        "              tokenized_text = rephrase(tokenized_text)\n",
        "            \n",
        "            return tokenized_text\n",
        "        self.index = -1\n",
        "        raise StopIteration"
      ],
      "metadata": {
        "id": "LAhv0sJu9784"
      },
      "execution_count": null,
      "outputs": []
    },
    {
      "cell_type": "markdown",
      "source": [
        "повторим процедуру обучения пайплайна на аугментированных данных:\n",
        "\n",
        "1) обучим эмбеддинги с помощью Word2Vec\n",
        "\n",
        "2) обучим CNN классификатор "
      ],
      "metadata": {
        "id": "mN987OrYDyZm"
      }
    },
    {
      "cell_type": "code",
      "source": [
        "dataloader = DataLoader(\"/content/hpac_source/\", rephrase, 0.5)\n",
        "embs = Word2Vec(dataloader, size=128, iter=10)"
      ],
      "metadata": {
        "id": "ZdW2gEhuCwLb"
      },
      "execution_count": null,
      "outputs": []
    },
    {
      "cell_type": "code",
      "source": [
        "encoder = Encoder(model)\n",
        "\n",
        "id2label = sorted(list(df_train[1].unique()))\n",
        "train_dataset = CustomDataset(df_train[2], df_train[1], encoder, id2label)\n",
        "test_dataset = CustomDataset(df_test[2], df_test[1], encoder, id2label)\n",
        "\n",
        "train_dataloader = DataLoader(train_dataset, batch_size=64)\n",
        "test_dataloader = DataLoader(test_dataset, batch_size=64)\n",
        "\n",
        "del train_dataset, test_dataset\n",
        "\n",
        "for x,y in train_dataloader:\n",
        "  break\n",
        "print(x.shape)"
      ],
      "metadata": {
        "id": "bJi5jvAFENSX"
      },
      "execution_count": null,
      "outputs": []
    },
    {
      "cell_type": "code",
      "source": [
        "lang_model = LanguageModel(128, 32, len(id2label))\n",
        "lang_model.to('cuda')"
      ],
      "metadata": {
        "id": "8lUNRXsTpe5U"
      },
      "execution_count": null,
      "outputs": []
    },
    {
      "cell_type": "code",
      "source": [
        "N_EPOCHS = 400\n",
        "\n",
        "optimizer = optim.Adam(lang_model.parameters(), 0.0001)\n",
        "criterion = nn.CrossEntropyLoss()\n",
        "\n",
        "N, M = len(train_dataloader), len(test_dataloader)\n",
        "\n",
        "for epoch in range(N_EPOCHS):\n",
        "  epoch_loss = 0\n",
        "  S = 0\n",
        "  lang_model.train()\n",
        "  for x,y in train_dataloader:\n",
        "    x, y = x.to('cuda'), y.to('cuda')\n",
        "    optimizer.zero_grad()\n",
        "    y_pred = lang_model(x.float())\n",
        "    loss_value = criterion(y_pred, y)\n",
        "    epoch_loss += loss_value.item()\n",
        "    loss_value.backward()\n",
        "    optimizer.step()\n",
        "  if epoch % 10 == 0: \n",
        "    print(epoch, epoch_loss/N)"
      ],
      "metadata": {
        "colab": {
          "base_uri": "https://localhost:8080/"
        },
        "id": "IlsQY0Wnq0GR",
        "outputId": "df50851f-e07e-4bcb-d5da-e11c73f99dac"
      },
      "execution_count": null,
      "outputs": [
        {
          "output_type": "stream",
          "name": "stdout",
          "text": [
            "0 3.266141791158558\n",
            "10 2.943990027913243\n",
            "20 2.434362644122223\n",
            "30 2.084275463545232\n",
            "40 1.958653217948122\n",
            "50 1.8872050125324668\n",
            "60 1.7323637342425945\n",
            "70 1.6256938882414466\n",
            "80 1.6763880410824843\n",
            "90 1.531065620492913\n",
            "100 1.500580912139208\n",
            "110 1.4602323233975107\n",
            "120 1.4318153213213323\n",
            "130 1.4050278402700755\n",
            "140 1.401769279323231\n",
            "150 1.3726363713868893\n",
            "160 1.345099479979508\n",
            "170 1.332914545571066\n",
            "180 1.3300022689451077\n",
            "190 1.331871671095725\n",
            "200 1.32735315025916\n",
            "210 1.3197981641200006\n",
            "220 1.2760030732800302\n",
            "230 1.2602222226181148\n",
            "240 1.261609170439361\n",
            "250 1.2270467564842008\n",
            "260 1.2181461629362197\n",
            "270 1.2060532732675359\n",
            "280 1.1979804404434852\n",
            "290 1.1859860132398536\n",
            "300 1.176149951811227\n",
            "310 1.1610117705896545\n",
            "320 1.1608265434343434\n",
            "330 1.1514665201603428\n",
            "340 1.135752102060308\n",
            "350 1.1367705201552273\n",
            "360 1.13385900713089\n",
            "370 1.0168793926959523\n",
            "380 1.033718687443518\n",
            "390 1.0342418109857774\n"
          ]
        }
      ]
    },
    {
      "cell_type": "code",
      "source": [
        "from sklearn.metrics import f1_score\n",
        "\n",
        "S = 0\n",
        "M = len(test_dataset)\n",
        "lang_model.eval()\n",
        "\n",
        "Y_pred = []\n",
        "Y_true = []\n",
        "\n",
        "for x, y in tqdm(test_dataset):\n",
        "    x, y = torch.tensor(x).unsqueeze(0).float(), torch.tensor(y).unsqueeze(0)\n",
        "    logits = lang_model(x)\n",
        "    y_pred = torch.argmax(logits)\n",
        "\n",
        "    Y_pred += list(y_pred.numpy())\n",
        "    Y_true += list(y.numpy())"
      ],
      "metadata": {
        "id": "Ve5Cga3Pq91b"
      },
      "execution_count": null,
      "outputs": []
    },
    {
      "cell_type": "code",
      "source": [
        "f1_score(Y_true, Y_pred, average='macro')"
      ],
      "metadata": {
        "colab": {
          "base_uri": "https://localhost:8080/"
        },
        "id": "jKVUZlijuo6l",
        "outputId": "54af6f3f-4deb-47ef-eb9b-280ab0e54bb2"
      },
      "execution_count": null,
      "outputs": [
        {
          "output_type": "stream",
          "name": "stdout",
          "text": [
            "0.58959459495\n"
          ]
        }
      ]
    },
    {
      "cell_type": "markdown",
      "source": [
        "Таким образом, агументация за счет синонимов на оказала эначительного эффекта на качество модели. Нам представляется, что это вызвано неаккуратной автоматической подборкой синонимов с помощью wordnet. Однако вопрос качества автоматической подборки синонимов является сложным и представляет интерес сам по себе.  "
      ],
      "metadata": {
        "id": "As1rMDFcushk"
      }
    },
    {
      "cell_type": "markdown",
      "source": [
        "Часть 4. [1 балл] Итоги\n",
        "Напишите краткое резюме проделанной работы. Читали ли вы сами Гарри Поттера или фанфики о нем и помогло ли вам знание предметной области в выполнении домашнего задания?"
      ],
      "metadata": {
        "id": "enBwNQTxvMp_"
      }
    },
    {
      "cell_type": "markdown",
      "source": [
        "В рамкой данной работы был выполнен ряд задач, связанных с моделированием языка. \n",
        "\n",
        "Во-первых, был использован метод Word2Vec для построения семантического векторного пространства на основе корпуса \"Harry Potter and the Action Prediction Challenge\"; полученная языковая модель успешно справляется с задачи нахождения похожих слов и аналогий. Во-вторых, была выполнена визуализация полученного методом Word2Vec семантического пространства с помощью метода нелинейного проецирования t-SNE. В-третьих, была решена задача классификация текста с помощью мультилинейного перцептрона, где векторы текстов были получены с помощью усреднения векторов слов, полученных методом FastText; качество такого классификатора составляет 0.39 macro F1 score. В-четвертых, был реализована сверточная нейронная сеть для задачи классификации; качество такого классификатора составляет 0.59 macro F1 score. Наконец, исходные данные были агументированы с помощью подбора синонимов. Обучение на аугментированных данных не позволило улучшить качество классификации.\n",
        "\n",
        "В силу ограниченности вычислительных мощностей и малого количества времени, нам не удалось проверить все поставленные нами гипотезы. Например, нами выдвигалась гипотеза о том, что RNN модель будем справляться с задачей лучше, кроме того, была гипотеза о том, что аугментация текста методом перестановки слов сможет улучшить качество классификации."
      ],
      "metadata": {
        "id": "pgzuOiJVwW9z"
      }
    }
  ],
  "metadata": {
    "colab": {
      "collapsed_sections": [],
      "provenance": []
    },
    "gpuClass": "standard",
    "kernelspec": {
      "display_name": "Python 3 (ipykernel)",
      "language": "python",
      "name": "python3"
    },
    "language_info": {
      "codemirror_mode": {
        "name": "ipython",
        "version": 3
      },
      "file_extension": ".py",
      "mimetype": "text/x-python",
      "name": "python",
      "nbconvert_exporter": "python",
      "pygments_lexer": "ipython3",
      "version": "3.9.7"
    }
  },
  "nbformat": 4,
  "nbformat_minor": 0
}